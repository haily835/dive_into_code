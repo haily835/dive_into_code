{
  "nbformat": 4,
  "nbformat_minor": 0,
  "metadata": {
    "colab": {
      "name": "Fuji.ipynb",
      "provenance": [],
      "collapsed_sections": [],
      "authorship_tag": "ABX9TyPJOVDsc2rdl6QJvhUIEk60",
      "include_colab_link": true
    },
    "kernelspec": {
      "name": "python3",
      "display_name": "Python 3"
    }
  },
  "cells": [
    {
      "cell_type": "markdown",
      "metadata": {
        "id": "view-in-github",
        "colab_type": "text"
      },
      "source": [
        "<a href=\"https://colab.research.google.com/github/haily835/dive_into_code/blob/master/Fuji.ipynb\" target=\"_parent\"><img src=\"https://colab.research.google.com/assets/colab-badge.svg\" alt=\"Open In Colab\"/></a>"
      ]
    },
    {
      "cell_type": "markdown",
      "metadata": {
        "id": "wMk007X9UDhr"
      },
      "source": [
        "**Python introductory lession assignment how many diffractions will cross Mt.Fuji**"
      ]
    },
    {
      "cell_type": "markdown",
      "metadata": {
        "id": "-IEhZiUEUmv-"
      },
      "source": [
        "[Problem 1] Minimum number of folds over Mt. Fuji"
      ]
    },
    {
      "cell_type": "code",
      "metadata": {
        "colab": {
          "base_uri": "https://localhost:8080/"
        },
        "id": "Wy8-m8eOUhc2",
        "outputId": "50d38654-4bc7-4388-c99f-a61a3f1f340d"
      },
      "source": [
        "THICK_NESS = 0.00008\r\n",
        "height = THICK_NESS\r\n",
        "FUJI_HEIGHT = 3776\r\n",
        "folds = 0\r\n",
        "while height < FUJI_HEIGHT:\r\n",
        "  folds += 1\r\n",
        "  height = height*2\r\n",
        "\r\n",
        "print(\"folds needed: \", folds )"
      ],
      "execution_count": null,
      "outputs": [
        {
          "output_type": "stream",
          "text": [
            "folds needed:  26\n"
          ],
          "name": "stdout"
        }
      ]
    },
    {
      "cell_type": "markdown",
      "metadata": {
        "id": "5jgI0OlcWLLG"
      },
      "source": [
        "[Problem 2] Creating a function corresponding to an arbitrary thickness"
      ]
    },
    {
      "cell_type": "code",
      "metadata": {
        "colab": {
          "base_uri": "https://localhost:8080/"
        },
        "id": "leCtGjd6WNoH",
        "outputId": "9881bdb9-db0d-437c-bb21-82b2c9964a16"
      },
      "source": [
        "def getTimes(paperThickness, distance):\r\n",
        "  height = paperThickness\r\n",
        "  folds = 0\r\n",
        "\r\n",
        "  while height < distance:\r\n",
        "    folds += 1\r\n",
        "    height = height*2\r\n",
        "  \r\n",
        "  return folds\r\n",
        "\r\n",
        "Proxima_Centauri = 40208000000000000 #meters\r\n",
        "print(\"folds needed to reach the closet non sun start: \", getTimes(0.00008, Proxima_Centauri))"
      ],
      "execution_count": null,
      "outputs": [
        {
          "output_type": "stream",
          "text": [
            "folds needed to reach the closet non sun start:  69\n"
          ],
          "name": "stdout"
        }
      ]
    },
    {
      "cell_type": "markdown",
      "metadata": {
        "id": "u3Pg9AujZeWW"
      },
      "source": [
        "[Problem 3] Required paper length"
      ]
    },
    {
      "cell_type": "code",
      "metadata": {
        "colab": {
          "base_uri": "https://localhost:8080/"
        },
        "id": "gXYdEkRcZfgn",
        "outputId": "5542df11-e807-4186-933e-e6c0b470562c"
      },
      "source": [
        "import math\r\n",
        "def foldPaper(distance):\r\n",
        "  t0 = 0.00008\r\n",
        "  tn = 1\r\n",
        "  folds = 1\r\n",
        "  L = 1\r\n",
        "  while tn < distance:\r\n",
        "    tn = t0 * (2**folds)\r\n",
        "    L = ((math.pi * t0) / 6.0) * (2**folds + 4) * (2**folds - 1)\r\n",
        "    folds += 1\r\n",
        "  \r\n",
        "  \r\n",
        "  return L\r\n",
        "\r\n",
        "moon = 384400000\r\n",
        "sun = 149597870000\r\n",
        "fuji = 3776\r\n",
        "\r\n",
        "\r\n",
        "print(\"paper length need to reach moon: \", foldPaper(moon))\r\n",
        "print(\"paper length need to reach sun: \", foldPaper(sun))\r\n",
        "print(\"paper length need to reach Mt Fuji: \", foldPaper(fuji))"
      ],
      "execution_count": null,
      "outputs": [
        {
          "output_type": "stream",
          "text": [
            "paper length need to reach moon:  3.240919444170781e+21\n",
            "paper length need to reach sun:  2.1239689669310416e+26\n",
            "paper length need to reach Mt Fuji:  188646348487.24017\n"
          ],
          "name": "stdout"
        }
      ]
    }
  ]
}